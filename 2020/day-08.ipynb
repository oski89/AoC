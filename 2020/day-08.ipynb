{
 "cells": [
  {
   "cell_type": "code",
   "execution_count": 58,
   "metadata": {},
   "outputs": [],
   "source": [
    "with open('input/08.txt','r') as f:\n",
    "    data = [(s[:3], s[4], s[5:]) for s in f.read().split('\\n')]\n",
    "#data"
   ]
  },
  {
   "cell_type": "code",
   "execution_count": 59,
   "metadata": {},
   "outputs": [
    {
     "name": "stdout",
     "output_type": "stream",
     "text": [
      "Part 1: 2025\n"
     ]
    }
   ],
   "source": [
    "# Part 1\n",
    "\n",
    "row = 0\n",
    "row_list = []\n",
    "counter = 0\n",
    "accumulator = 0\n",
    "while True:\n",
    "    \n",
    "    # Check if done\n",
    "    if row not in row_list:\n",
    "        row_list.append(row)\n",
    "    else:\n",
    "        break\n",
    "    \n",
    "    # Parse operations\n",
    "    op = data[row][0]\n",
    "    sign = data[row][1]\n",
    "    size = data[row][2]\n",
    "    \n",
    "    # Do operation\n",
    "    if op == 'nop':\n",
    "        row += 1\n",
    "    elif op == 'acc':\n",
    "        if sign == '+':\n",
    "            accumulator += int(size)\n",
    "        else:\n",
    "            accumulator -= int(size)\n",
    "        row += 1\n",
    "    else:\n",
    "        if sign == '+':\n",
    "            row += int(size)\n",
    "        else:\n",
    "            row -= int(size)\n",
    "    \n",
    "    counter += 1\n",
    "    \n",
    "print('Part 1:', accumulator)"
   ]
  },
  {
   "cell_type": "code",
   "execution_count": 61,
   "metadata": {},
   "outputs": [
    {
     "ename": "KeyboardInterrupt",
     "evalue": "",
     "output_type": "error",
     "traceback": [
      "\u001b[0;31m---------------------------------------------------------------------------\u001b[0m",
      "\u001b[0;31mKeyboardInterrupt\u001b[0m                         Traceback (most recent call last)",
      "\u001b[0;32m<ipython-input-61-3cbd50e4908b>\u001b[0m in \u001b[0;36m<module>\u001b[0;34m\u001b[0m\n\u001b[1;32m      8\u001b[0m \u001b[0;34m\u001b[0m\u001b[0m\n\u001b[1;32m      9\u001b[0m     \u001b[0;31m# Check if done\u001b[0m\u001b[0;34m\u001b[0m\u001b[0;34m\u001b[0m\u001b[0;34m\u001b[0m\u001b[0m\n\u001b[0;32m---> 10\u001b[0;31m     \u001b[0;32mif\u001b[0m \u001b[0;34m(\u001b[0m\u001b[0mlen\u001b[0m\u001b[0;34m(\u001b[0m\u001b[0mdata\u001b[0m\u001b[0;34m)\u001b[0m \u001b[0;34m-\u001b[0m \u001b[0;36m1\u001b[0m\u001b[0;34m)\u001b[0m \u001b[0;32min\u001b[0m \u001b[0mrow_list\u001b[0m\u001b[0;34m:\u001b[0m\u001b[0;34m\u001b[0m\u001b[0;34m\u001b[0m\u001b[0m\n\u001b[0m\u001b[1;32m     11\u001b[0m         \u001b[0;32mbreak\u001b[0m\u001b[0;34m\u001b[0m\u001b[0;34m\u001b[0m\u001b[0m\n\u001b[1;32m     12\u001b[0m     \u001b[0;32melse\u001b[0m\u001b[0;34m:\u001b[0m\u001b[0;34m\u001b[0m\u001b[0;34m\u001b[0m\u001b[0m\n",
      "\u001b[0;31mKeyboardInterrupt\u001b[0m: "
     ]
    }
   ],
   "source": [
    "# Part 2\n",
    "\n",
    "row = 0\n",
    "accumulator = 0\n",
    "keep_going = True\n",
    "\n",
    "while keep_going:\n",
    "    \n",
    "    # Check if done\n",
    "    if (len(data) - 1) in row_list:\n",
    "        break\n",
    "    else:\n",
    "        row_list.append(row)\n",
    "        \n",
    "    #if row == len(data) - 1:\n",
    "    #    keep_going = False\n",
    "    \n",
    "    # Parse operations\n",
    "    op = data[row][0]\n",
    "    sign = data[row][1]\n",
    "    size = data[row][2]\n",
    "    \n",
    "    # Do operation\n",
    "    if op == 'nop':\n",
    "        if (sign == '+') and (row + int(size) == len(data) - 1):\n",
    "            row += int(size)\n",
    "        elif (sign == '-') and (row - int(size) == len(data) - 1):\n",
    "            row -= int(size)\n",
    "        else:\n",
    "            row += 1\n",
    "    elif op == 'acc':\n",
    "        if sign == '+':\n",
    "            accumulator += int(size)\n",
    "        else:\n",
    "            accumulator -= int(size)\n",
    "        row += 1\n",
    "    else:\n",
    "        if row + 1 == len(data) - 1:\n",
    "            row += 1\n",
    "        else:\n",
    "            if sign == '+':\n",
    "                row += int(size)\n",
    "            else:\n",
    "                row -= int(size)\n",
    "    \n",
    "    #print(op, sign, size)\n",
    "    \n",
    "print('Part 2:', accumulator)"
   ]
  },
  {
   "cell_type": "code",
   "execution_count": null,
   "metadata": {},
   "outputs": [],
   "source": []
  }
 ],
 "metadata": {
  "kernelspec": {
   "display_name": "Python 3",
   "language": "python",
   "name": "python3"
  },
  "language_info": {
   "codemirror_mode": {
    "name": "ipython",
    "version": 3
   },
   "file_extension": ".py",
   "mimetype": "text/x-python",
   "name": "python",
   "nbconvert_exporter": "python",
   "pygments_lexer": "ipython3",
   "version": "3.7.3"
  }
 },
 "nbformat": 4,
 "nbformat_minor": 2
}
