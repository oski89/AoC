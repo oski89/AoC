{
 "cells": [
  {
   "cell_type": "code",
   "execution_count": null,
   "metadata": {},
   "outputs": [],
   "source": [
    "with open('input/02.txt') as f:\n",
    "\tdata = f.read().strip().split()\n",
    "data"
   ]
  },
  {
   "cell_type": "code",
   "execution_count": null,
   "metadata": {},
   "outputs": [],
   "source": [
    "occur = [tuple(int(s) for s in c.split('-')) for c in data[::3]]\n",
    "char = [a[0] for a in data[1::3]]\n",
    "pswd = data[2::3]"
   ]
  },
  {
   "cell_type": "code",
   "execution_count": null,
   "metadata": {},
   "outputs": [],
   "source": [
    "# Part 1\n",
    "def pswd_checker(pswd, char, occur):\n",
    "\ta,b = occur\n",
    "\treturn a <= pswd.count(char) <= b\n",
    "\n",
    "counter = 0\n",
    "for i,p in enumerate(pswd):\n",
    "\tif pswd_checker(p,char[i],occur[i]):\n",
    "\t\tcounter += 1\n",
    "print('Part 1:', counter)"
   ]
  },
  {
   "cell_type": "code",
   "execution_count": null,
   "metadata": {},
   "outputs": [],
   "source": [
    "# Part 2\n",
    "def pswd_checker2(pswd, char, pos):\n",
    "\ta,b = pos\n",
    "\treturn (pswd[a-1] == char) != (pswd[b-1] == char)\n",
    "\n",
    "counter2 = 0\n",
    "for i,p in enumerate(pswd):\n",
    "\tif pswd_checker2(p,char[i],occur[i]):\n",
    "\t\tcounter2 += 1\n",
    "print('Part 2:', counter2)"
   ]
  }
 ],
 "metadata": {
  "kernelspec": {
   "display_name": "Python 3",
   "language": "python",
   "name": "python3"
  },
  "language_info": {
   "codemirror_mode": {
    "name": "ipython",
    "version": 3
   },
   "file_extension": ".py",
   "mimetype": "text/x-python",
   "name": "python",
   "nbconvert_exporter": "python",
   "pygments_lexer": "ipython3",
   "version": "3.8.5"
  }
 },
 "nbformat": 4,
 "nbformat_minor": 4
}
