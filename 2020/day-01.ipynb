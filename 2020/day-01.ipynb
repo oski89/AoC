{
 "cells": [
  {
   "cell_type": "code",
   "execution_count": null,
   "metadata": {},
   "outputs": [],
   "source": [
    "with open('input/01.txt', 'r') as f:\n",
    "    data = [int(num) for num in f.read().split()]\n",
    "data"
   ]
  },
  {
   "cell_type": "code",
   "execution_count": null,
   "metadata": {},
   "outputs": [],
   "source": [
    "# Part 1\n",
    "for a in data:\n",
    "    b = 2020 - a\n",
    "    if b in data:\n",
    "        print(f'Part 1:\\na = {a}\\nb = {b}\\na*b = {a*b}\\n')\n",
    "        break\n",
    "else:\n",
    "    print('Part 1 found no match\\n')"
   ]
  },
  {
   "cell_type": "code",
   "execution_count": null,
   "metadata": {},
   "outputs": [],
   "source": [
    "# Part 2\n",
    "data.sort()\n",
    "for i, a in enumerate(data):\n",
    "\tfor b in data[i+1:]:\n",
    "\t\tc = 2020 - (a + b)\n",
    "\t\tif c in data:\n",
    "\t\t\tprint(f'Part 2:\\na = {a}\\nb = {b}\\nc = {c}\\na*b*c = {a*b*c}')\n",
    "\t\t\tbreak\n",
    "\telse:\n",
    "\t\tcontinue\n",
    "\tbreak\n",
    "else:\n",
    "\tprint('Part 2 found no match!')"
   ]
  }
 ],
 "metadata": {
  "kernelspec": {
   "display_name": "Python 3",
   "language": "python",
   "name": "python3"
  },
  "language_info": {
   "codemirror_mode": {
    "name": "ipython",
    "version": 3
   },
   "file_extension": ".py",
   "mimetype": "text/x-python",
   "name": "python",
   "nbconvert_exporter": "python",
   "pygments_lexer": "ipython3",
   "version": "3.8.5"
  }
 },
 "nbformat": 4,
 "nbformat_minor": 4
}
