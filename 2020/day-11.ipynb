{
 "cells": [
  {
   "cell_type": "code",
   "execution_count": null,
   "metadata": {},
   "outputs": [],
   "source": [
    "import numpy as np"
   ]
  },
  {
   "cell_type": "code",
   "execution_count": null,
   "metadata": {},
   "outputs": [],
   "source": [
    "with open('input/11.txt','r') as f:\n",
    "    data = f.read().split()\n",
    "#data"
   ]
  },
  {
   "cell_type": "code",
   "execution_count": null,
   "metadata": {},
   "outputs": [],
   "source": [
    "def print_board(board):\n",
    "    for row in board[1:-1]:\n",
    "        print(''.join(row[1:-1]))\n",
    "    print()"
   ]
  },
  {
   "cell_type": "code",
   "execution_count": null,
   "metadata": {},
   "outputs": [],
   "source": [
    "def init_board(data):\n",
    "    \n",
    "    nrows = len(data)\n",
    "    ncols = len(data[0])\n",
    "    \n",
    "    board = np.array(['.'*(ncols+2)]*(nrows+2),dtype=('U10',(ncols+2)))\n",
    "    board[1:-1,1:-1] = np.array(data,dtype=('U10',ncols))\n",
    "    \n",
    "    return board, nrows, ncols"
   ]
  },
  {
   "cell_type": "code",
   "execution_count": null,
   "metadata": {},
   "outputs": [],
   "source": [
    "def look_for_seats(board,r,c,part):\n",
    "    \n",
    "    seats = ''\n",
    "    rows = []\n",
    "    \n",
    "    if part == 1:\n",
    "        sub_board = board[r-1:r+2,c-1:c+2]\n",
    "        seat_list = [str(va) for (ro,co),va in np.ndenumerate(sub_board) if (ro,co) != (1,1)]\n",
    "        seats = ''.join(seat_list)\n",
    "    \n",
    "    else:\n",
    "        rows.append(board[r,c+1:])  # Right\n",
    "        rows.append(np.diagonal(board[r+1:,c+1:]))  # Diag right-down\n",
    "        rows.append(board[r+1:,c])  # Down\n",
    "        rows.append(np.diagonal(board[r+1:,c-1::-1]))  # Diag down-left\n",
    "        rows.append(board[r,c-1::-1])  # Left\n",
    "        rows.append(np.diagonal(board[r-1::-1,c-1::-1]))  # Diag left-up\n",
    "        rows.append(board[r-1::-1,c])  # Up\n",
    "        rows.append(np.diagonal(board[r-1::-1,c+1:]))  # Diag up-right\n",
    "\n",
    "        for row in rows:\n",
    "            for seat in row:\n",
    "                if seat in 'L#':\n",
    "                    seats += seat\n",
    "                    break\n",
    "            else:\n",
    "                seats += '.'\n",
    "        \n",
    "    return seats"
   ]
  },
  {
   "cell_type": "code",
   "execution_count": null,
   "metadata": {},
   "outputs": [],
   "source": [
    "def next_state(board,nrows,ncols,part):\n",
    "    \n",
    "    next_board = np.array(['.'*(ncols+2)]*(nrows+2),dtype=('U10',(ncols+2)))\n",
    "    \n",
    "    for (r,c),v in np.ndenumerate(board):\n",
    "            \n",
    "        if v == '.':\n",
    "            continue\n",
    "        \n",
    "        seats = look_for_seats(board,r,c,part)\n",
    "        \n",
    "        if v == 'L':\n",
    "            if seats.count('#') == 0:\n",
    "                next_board[r,c] = '#'\n",
    "            else:\n",
    "                next_board[r,c] = 'L'\n",
    "        \n",
    "        if v == '#':\n",
    "            if seats.count('#') >= 3+part:  # part 1: 4, part 2: 5\n",
    "                next_board[r,c] = 'L'\n",
    "            else:\n",
    "                next_board[r,c] = '#'\n",
    "        \n",
    "    return next_board"
   ]
  },
  {
   "cell_type": "code",
   "execution_count": null,
   "metadata": {},
   "outputs": [],
   "source": [
    "def count_seats(board):\n",
    "    u, n = np.unique(board[1:-1,1:-1], return_counts=True)\n",
    "    ud = {'#':0, '.':0, 'L':0}\n",
    "    for i,k in enumerate(u):\n",
    "        ud[k] = n[i]\n",
    "    return ud"
   ]
  },
  {
   "cell_type": "code",
   "execution_count": null,
   "metadata": {},
   "outputs": [],
   "source": [
    "# Part 1\n",
    "\n",
    "PART = 1\n",
    "stabilized = False\n",
    "board, nr, nc = init_board(data)\n",
    "while not stabilized:\n",
    "    next_board = next_state(board,nr,nc,PART)\n",
    "    compare = next_board == board\n",
    "    if compare.all():\n",
    "        stabilized = True\n",
    "    else:\n",
    "        board = next_board\n",
    "seats = count_seats(board)\n",
    "\n",
    "print('Part 1:', seats['#'])"
   ]
  },
  {
   "cell_type": "code",
   "execution_count": null,
   "metadata": {},
   "outputs": [],
   "source": [
    "# Part 2\n",
    "\n",
    "PART = 2\n",
    "stabilized = False\n",
    "board, nr, nc = init_board(data)\n",
    "while not stabilized:\n",
    "    next_board = next_state(board,nr,nc,PART)\n",
    "    compare = next_board == board\n",
    "    if compare.all():\n",
    "        stabilized = True\n",
    "    else:\n",
    "        board = next_board\n",
    "seats = count_seats(board)\n",
    "\n",
    "print('Part 2:', seats['#'])"
   ]
  }
 ],
 "metadata": {
  "kernelspec": {
   "display_name": "Python 3",
   "language": "python",
   "name": "python3"
  },
  "language_info": {
   "codemirror_mode": {
    "name": "ipython",
    "version": 3
   },
   "file_extension": ".py",
   "mimetype": "text/x-python",
   "name": "python",
   "nbconvert_exporter": "python",
   "pygments_lexer": "ipython3",
   "version": "3.7.3"
  }
 },
 "nbformat": 4,
 "nbformat_minor": 2
}
