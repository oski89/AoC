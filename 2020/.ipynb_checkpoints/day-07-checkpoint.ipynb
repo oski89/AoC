{
 "cells": [
  {
   "cell_type": "code",
   "execution_count": 23,
   "metadata": {},
   "outputs": [],
   "source": [
    "import re"
   ]
  },
  {
   "cell_type": "code",
   "execution_count": 24,
   "metadata": {},
   "outputs": [],
   "source": [
    "# with open('input/07.txt','r') as f:\n",
    "# with open('input/07_ex.txt','r') as f:\n",
    "with open('input/07_ex2.txt','r') as f:\n",
    "    data = f.read().split('\\n')\n",
    "# data"
   ]
  },
  {
   "cell_type": "code",
   "execution_count": 49,
   "metadata": {},
   "outputs": [],
   "source": [
    "def bags_to_dict(text: str) -> dict:\n",
    "\n",
    "    pattern = r'(.*) bags contain (.*) bags?'\n",
    "    \n",
    "    answer = re.match(pattern,text)\n",
    "    k = answer.group(1)\n",
    "\n",
    "    answer2 = re.split(r' bags?, ',answer.group(2))\n",
    "    answer3 = []\n",
    "    pattern2 = r'(\\d) (.*)'\n",
    "    for entry in answer2:\n",
    "        answer3.append(re.match(pattern2,entry))\n",
    "\n",
    "    d_loc = {}\n",
    "    for entry in answer3:\n",
    "        try:\n",
    "            d_loc[entry[2]] = int(entry[1])\n",
    "        except TypeError:\n",
    "            pass\n",
    "    d_loc\n",
    "    d = {k:d_loc}\n",
    "    return d"
   ]
  },
  {
   "cell_type": "code",
   "execution_count": 50,
   "metadata": {},
   "outputs": [
    {
     "name": "stdout",
     "output_type": "stream",
     "text": [
      "Part 1: 0\n"
     ]
    }
   ],
   "source": [
    "# Part 1\n",
    "\n",
    "bag_dict = {k:v for row in data for k,v in bags_to_dict(row).items()}\n",
    "\n",
    "shiny_list = []\n",
    "list_to_check = []\n",
    "for k,v in bag_dict.items():\n",
    "    for k1,v1 in v.items():\n",
    "        if k1 == 'shiny gold':\n",
    "            if k not in shiny_list:\n",
    "                shiny_list.append(k)\n",
    "                list_to_check.append(k)\n",
    "\n",
    "for bag in list_to_check:\n",
    "    for k,v in bag_dict.items():\n",
    "        if bag in v.keys():\n",
    "            if k not in shiny_list:\n",
    "                shiny_list.append(k)\n",
    "                list_to_check.append(k)\n",
    "\n",
    "print('Part 1:', len(shiny_list))"
   ]
  },
  {
   "cell_type": "code",
   "execution_count": 48,
   "metadata": {},
   "outputs": [
    {
     "name": "stdout",
     "output_type": "stream",
     "text": [
      "shiny gold {'dark red': 2}\n",
      "dark red {'dark orange': 2}\n",
      "dark orange {'dark yellow': 2}\n",
      "dark yellow {'dark green': 2}\n",
      "dark green {'dark blue': 2}\n",
      "dark blue {'dark violet': 2}\n",
      "dark violet {}\n",
      "2\n",
      "2\n",
      "2\n",
      "2\n",
      "2\n",
      "2\n",
      "['shiny gold', 'dark red', 'dark orange', 'dark yellow', 'dark green', 'dark blue', 'dark violet']\n",
      "[1]\n"
     ]
    }
   ],
   "source": [
    "# Part 2\n",
    "\n",
    "for k,v in bag_dict.items():\n",
    "    print(k,v)\n",
    "\n",
    "bag_list = ['shiny gold']\n",
    "bag_amount_list = [1]\n",
    "\n",
    "factor = 1\n",
    "for bag in bag_list:\n",
    "    for k,v in bag_dict[bag].items():\n",
    "        bag_list.append(k)\n",
    "        print(v)\n",
    "        factor *= v\n",
    "        if not bag_dict[bag].items():\n",
    "            bag_amount_list.append(factor)\n",
    "print(bag_list)\n",
    "print(bag_amount_list)"
   ]
  },
  {
   "cell_type": "code",
   "execution_count": null,
   "metadata": {},
   "outputs": [],
   "source": []
  }
 ],
 "metadata": {
  "kernelspec": {
   "display_name": "Python 3",
   "language": "python",
   "name": "python3"
  },
  "language_info": {
   "codemirror_mode": {
    "name": "ipython",
    "version": 3
   },
   "file_extension": ".py",
   "mimetype": "text/x-python",
   "name": "python",
   "nbconvert_exporter": "python",
   "pygments_lexer": "ipython3",
   "version": "3.7.3"
  }
 },
 "nbformat": 4,
 "nbformat_minor": 4
}
