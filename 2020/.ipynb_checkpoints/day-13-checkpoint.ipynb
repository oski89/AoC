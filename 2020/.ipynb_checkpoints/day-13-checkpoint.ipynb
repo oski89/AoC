{
 "cells": [
  {
   "cell_type": "code",
   "execution_count": null,
   "metadata": {},
   "outputs": [],
   "source": [
    "EXAMPLE = 0\n",
    "\n",
    "if EXAMPLE == 0:\n",
    "    with open('input/13.txt','r') as f:\n",
    "        data = f.read().split()\n",
    "elif EXAMPLE == 1:\n",
    "    data = '''939\n",
    "7,13,x,x,59,x,31,19'''.split()\n",
    "elif EXAMPLE == 2:\n",
    "    data = '''666\n",
    "17,x,13,19'''.split()\n",
    "elif EXAMPLE == 3:\n",
    "    data = '''666\n",
    "67,7,59,61'''.split()\n",
    "elif EXAMPLE == 4:\n",
    "    data = '''666\n",
    "67,7,x,59,61'''.split()\n",
    "elif EXAMPLE == 5:\n",
    "    data = '''666\n",
    "67,7,x,59,61'''.split()\n",
    "elif EXAMPLE == 6:\n",
    "    data = '''666\n",
    "1789,37,47,1889'''.split()\n",
    "\n",
    "time_stamp = int(data[0])\n",
    "buses = [int(bus) for bus in data[1].split(',') if bus != 'x']"
   ]
  },
  {
   "cell_type": "code",
   "execution_count": null,
   "metadata": {},
   "outputs": [],
   "source": [
    "# Part 1\n",
    "\n",
    "wait_time = {}\n",
    "\n",
    "for bus in buses:\n",
    "    wait_time[bus] = bus - time_stamp % bus\n",
    "\n",
    "min_wait = time_stamp\n",
    "min_bus = None\n",
    "\n",
    "for k,v in wait_time.items():\n",
    "    if v < min_wait:\n",
    "        min_wait = v\n",
    "        min_bus = k\n",
    "\n",
    "print('Part 1:', min_wait*min_bus)"
   ]
  },
  {
   "cell_type": "code",
   "execution_count": null,
   "metadata": {},
   "outputs": [],
   "source": [
    "# Part 2\n",
    "\n",
    "buses2 = [(int(bus),int(offset)) for offset,bus in enumerate(data[1].split(',')) if bus != 'x']\n",
    "buses2_copy = buses2.copy()\n",
    "t,dt = 0,1\n",
    "\n",
    "while True:\n",
    "    \n",
    "    t += dt\n",
    "    conditions = [(t+offset) % bus == 0 for bus,offset in buses2_copy]\n",
    "    \n",
    "    if all(conditions):\n",
    "        break\n",
    "    \n",
    "    if any(conditions):\n",
    "        idx = [idx for idx,cond in enumerate(conditions) if cond][0]\n",
    "        bus = buses2_copy.pop(idx)[0]\n",
    "        dt *= bus\n",
    "\n",
    "print('Part 2:', t)"
   ]
  }
 ],
 "metadata": {
  "kernelspec": {
   "display_name": "Python 3",
   "language": "python",
   "name": "python3"
  },
  "language_info": {
   "codemirror_mode": {
    "name": "ipython",
    "version": 3
   },
   "file_extension": ".py",
   "mimetype": "text/x-python",
   "name": "python",
   "nbconvert_exporter": "python",
   "pygments_lexer": "ipython3",
   "version": "3.7.3"
  }
 },
 "nbformat": 4,
 "nbformat_minor": 2
}
