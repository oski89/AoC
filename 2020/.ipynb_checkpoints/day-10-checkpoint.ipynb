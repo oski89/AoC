{
 "cells": [
  {
   "cell_type": "code",
   "execution_count": null,
   "metadata": {},
   "outputs": [],
   "source": [
    "with open('input/10.txt','r') as f:\n",
    "    data = [int(n) for n in f.read().split()]\n",
    "#data"
   ]
  },
  {
   "cell_type": "code",
   "execution_count": null,
   "metadata": {},
   "outputs": [],
   "source": [
    "# Part 1\n",
    "\n",
    "data.sort()\n",
    "cnt1 = 0\n",
    "cnt3 = 0\n",
    "\n",
    "for i,n in enumerate(data):\n",
    "    if i == 0:\n",
    "        if n == 1:\n",
    "            cnt1 += 1\n",
    "        else:\n",
    "            cnt3 += 1\n",
    "    else:\n",
    "        if n-data[i-1] == 1:\n",
    "            cnt1 += 1\n",
    "        else:\n",
    "            cnt3 += 1\n",
    "else:\n",
    "    cnt3 += 1\n",
    "            \n",
    "print('Part 1:', cnt1 * cnt3)"
   ]
  },
  {
   "cell_type": "code",
   "execution_count": null,
   "metadata": {},
   "outputs": [],
   "source": [
    "# Part 2\n",
    "\n"
   ]
  }
 ],
 "metadata": {
  "kernelspec": {
   "display_name": "Python 3",
   "language": "python",
   "name": "python3"
  },
  "language_info": {
   "codemirror_mode": {
    "name": "ipython",
    "version": 3
   },
   "file_extension": ".py",
   "mimetype": "text/x-python",
   "name": "python",
   "nbconvert_exporter": "python",
   "pygments_lexer": "ipython3",
   "version": "3.7.3"
  }
 },
 "nbformat": 4,
 "nbformat_minor": 2
}
