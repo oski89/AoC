{
 "cells": [
  {
   "cell_type": "code",
   "execution_count": null,
   "metadata": {},
   "outputs": [],
   "source": [
    "with open('input/06.txt','r') as f:\n",
    "    data = [line.split('\\n') for line in f.read().split('\\n\\n')]\n",
    "data"
   ]
  },
  {
   "cell_type": "code",
   "execution_count": null,
   "metadata": {},
   "outputs": [],
   "source": [
    "# Part 1\n",
    "counter = 0\n",
    "for row in test_data_list:\n",
    "    counter += len(set(''.join(row)))\n",
    "print('Part 1:', counter)"
   ]
  },
  {
   "cell_type": "code",
   "execution_count": null,
   "metadata": {},
   "outputs": [],
   "source": [
    "# Part 2\n",
    "counter2 = 0\n",
    "for row in test_data_list:\n",
    "    first = set(row[0])\n",
    "    other = row[1:]\n",
    "    first.intersection_update(*other)\n",
    "    counter2 += len(first)\n",
    "print('Part 2:', counter2)"
   ]
  }
 ],
 "metadata": {
  "kernelspec": {
   "display_name": "Python 3",
   "language": "python",
   "name": "python3"
  },
  "language_info": {
   "codemirror_mode": {
    "name": "ipython",
    "version": 3
   },
   "file_extension": ".py",
   "mimetype": "text/x-python",
   "name": "python",
   "nbconvert_exporter": "python",
   "pygments_lexer": "ipython3",
   "version": "3.8.5"
  }
 },
 "nbformat": 4,
 "nbformat_minor": 4
}
