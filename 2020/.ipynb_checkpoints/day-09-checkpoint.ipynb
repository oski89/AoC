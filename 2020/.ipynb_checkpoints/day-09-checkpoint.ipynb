{
 "cells": [
  {
   "cell_type": "code",
   "execution_count": null,
   "metadata": {},
   "outputs": [],
   "source": [
    "import numpy as np"
   ]
  },
  {
   "cell_type": "code",
   "execution_count": null,
   "metadata": {},
   "outputs": [],
   "source": [
    "with open('input/09.txt','r') as f:\n",
    "    data = f.read().split()\n",
    "#data"
   ]
  },
  {
   "cell_type": "code",
   "execution_count": null,
   "metadata": {},
   "outputs": [],
   "source": [
    "# Part 1\n",
    "\n",
    "start_row = 25\n",
    "row = start_row\n",
    "\n",
    "# Check numbers\n",
    "for number in data[row:]:\n",
    "    \n",
    "    number = int(number)\n",
    "\n",
    "    # Calculate preamble\n",
    "    preamble = data[row-start_row:row]\n",
    "\n",
    "    # Calculate preamble sums\n",
    "    preamble_sum = set([int(a)+int(b) for a in preamble for b in preamble if a != b])\n",
    "\n",
    "    if number not in preamble_sum:\n",
    "        break\n",
    "\n",
    "    row += 1\n",
    "            \n",
    "print('Part 1:', number)"
   ]
  },
  {
   "cell_type": "code",
   "execution_count": null,
   "metadata": {},
   "outputs": [],
   "source": [
    "# Part 2\n",
    "\n",
    "data2 = np.array([int(n) for n in data])\n",
    "data2 = data2[data2 < number]\n",
    "\n",
    "lo = 0\n",
    "hi = 2\n",
    "\n",
    "while True:\n",
    "    res = sum(data2[lo:hi])\n",
    "    if res < number:\n",
    "        hi += 1\n",
    "    elif res > number:\n",
    "        lo += 1\n",
    "    else:\n",
    "        min_num = min(data2[lo:hi])\n",
    "        max_num = max(data2[lo:hi])\n",
    "        break\n",
    "\n",
    "print('Part 2:', min_num + max_num)"
   ]
  }
 ],
 "metadata": {
  "kernelspec": {
   "display_name": "Python 3",
   "language": "python",
   "name": "python3"
  },
  "language_info": {
   "codemirror_mode": {
    "name": "ipython",
    "version": 3
   },
   "file_extension": ".py",
   "mimetype": "text/x-python",
   "name": "python",
   "nbconvert_exporter": "python",
   "pygments_lexer": "ipython3",
   "version": "3.7.3"
  }
 },
 "nbformat": 4,
 "nbformat_minor": 2
}
