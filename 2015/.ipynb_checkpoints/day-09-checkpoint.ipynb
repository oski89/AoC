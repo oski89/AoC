{
 "cells": [
  {
   "cell_type": "code",
   "execution_count": null,
   "metadata": {},
   "outputs": [],
   "source": [
    "import re\n",
    "from itertools import permutations"
   ]
  },
  {
   "cell_type": "code",
   "execution_count": null,
   "metadata": {},
   "outputs": [],
   "source": [
    "EXAMPLE = 0\n",
    "\n",
    "if EXAMPLE == 1:\n",
    "    data = '''London to Dublin = 464\n",
    "London to Belfast = 518\n",
    "Dublin to Belfast = 141'''.split('\\n')\n",
    "else:\n",
    "    with open('input/09.txt','r') as f:\n",
    "        data = f.read().split('\\n')\n",
    "#data"
   ]
  },
  {
   "cell_type": "code",
   "execution_count": null,
   "metadata": {},
   "outputs": [],
   "source": [
    "# Part 1\n",
    "\n",
    "cities = []\n",
    "distances = {}\n",
    "pattern = r'^(\\w+) to (\\w+) = (\\d+)$'\n",
    "for row in data:\n",
    "    mtchs = re.match(pattern,row).groups()\n",
    "    distances[mtchs[0]+mtchs[1]] = int(mtchs[-1])\n",
    "    for mtch in mtchs[:2]:\n",
    "        if mtch not in cities:\n",
    "            cities.append(mtch)\n",
    "\n",
    "perms = permutations(cities)\n",
    "perms_list = []\n",
    "tot_dists = []\n",
    "for perm in perms:\n",
    "    perms_list.append(perm)\n",
    "    tot_dist = 0\n",
    "    for i in range(len(perm)-1):\n",
    "        try:\n",
    "            tot_dist += distances[perm[i]+perm[i+1]]\n",
    "        except:\n",
    "            tot_dist += distances[perm[i+1]+perm[i]]\n",
    "    perms_list.append(tot_dist)\n",
    "    tot_dists.append(tot_dist)\n",
    "\n",
    "print('Part 1:', min(tot_dists))"
   ]
  },
  {
   "cell_type": "code",
   "execution_count": null,
   "metadata": {},
   "outputs": [],
   "source": [
    "# Part 2\n",
    "\n",
    "print('Part 2:', max(tot_dists))"
   ]
  }
 ],
 "metadata": {
  "kernelspec": {
   "display_name": "Python 3",
   "language": "python",
   "name": "python3"
  },
  "language_info": {
   "codemirror_mode": {
    "name": "ipython",
    "version": 3
   },
   "file_extension": ".py",
   "mimetype": "text/x-python",
   "name": "python",
   "nbconvert_exporter": "python",
   "pygments_lexer": "ipython3",
   "version": "3.7.3"
  }
 },
 "nbformat": 4,
 "nbformat_minor": 2
}
