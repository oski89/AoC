{
 "cells": [
  {
   "cell_type": "code",
   "execution_count": null,
   "metadata": {},
   "outputs": [],
   "source": [
    "EXAMPLE = 0\n",
    "\n",
    "if EXAMPLE == 1:\n",
    "    data = '1'\n",
    "elif  EXAMPLE == 2:\n",
    "    data = '11'\n",
    "elif  EXAMPLE == 3:\n",
    "    data = '21'\n",
    "elif  EXAMPLE == 4:\n",
    "    data = '1211'\n",
    "elif  EXAMPLE == 5:\n",
    "    data = '111221'\n",
    "else:\n",
    "    with open('input/10.txt','r') as f:\n",
    "        data = f.read()\n",
    "#data"
   ]
  },
  {
   "cell_type": "code",
   "execution_count": null,
   "metadata": {},
   "outputs": [],
   "source": [
    "# Part 1\n",
    "\n",
    "def look_and_say(number):\n",
    "    \n",
    "    number = str(number)\n",
    "\n",
    "    counter = 0\n",
    "    currnum = number[0]\n",
    "    outnum = ''\n",
    "\n",
    "    for n in number:\n",
    "        if n == currnum:\n",
    "            counter += 1\n",
    "        else:\n",
    "            outnum += str(counter) + currnum\n",
    "            currnum = n\n",
    "            counter = 1\n",
    "    else:\n",
    "        outnum += str(counter) + currnum\n",
    "    return outnum\n",
    "\n",
    "niters = 40\n",
    "num = data\n",
    "\n",
    "for _ in range(niters):\n",
    "    num = look_and_say(num)\n",
    "\n",
    "print('Part 1:', len(num))"
   ]
  },
  {
   "cell_type": "code",
   "execution_count": null,
   "metadata": {},
   "outputs": [],
   "source": [
    "# Part 1\n",
    "\n",
    "niters = 50\n",
    "num = data\n",
    "\n",
    "for _ in range(niters):\n",
    "    num = look_and_say(num)\n",
    "\n",
    "print('Part 2:', len(num))"
   ]
  }
 ],
 "metadata": {
  "kernelspec": {
   "display_name": "Python 3",
   "language": "python",
   "name": "python3"
  },
  "language_info": {
   "codemirror_mode": {
    "name": "ipython",
    "version": 3
   },
   "file_extension": ".py",
   "mimetype": "text/x-python",
   "name": "python",
   "nbconvert_exporter": "python",
   "pygments_lexer": "ipython3",
   "version": "3.7.3"
  }
 },
 "nbformat": 4,
 "nbformat_minor": 2
}
