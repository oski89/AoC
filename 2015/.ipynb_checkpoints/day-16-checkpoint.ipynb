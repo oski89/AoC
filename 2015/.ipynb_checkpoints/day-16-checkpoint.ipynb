{
 "cells": [
  {
   "cell_type": "code",
   "execution_count": null,
   "metadata": {},
   "outputs": [],
   "source": [
    "import re"
   ]
  },
  {
   "cell_type": "code",
   "execution_count": null,
   "metadata": {},
   "outputs": [],
   "source": [
    "with open('input/16.txt', 'r') as f:\n",
    "    data = f.read().split('\\n')\n",
    "#data"
   ]
  },
  {
   "cell_type": "code",
   "execution_count": null,
   "metadata": {},
   "outputs": [],
   "source": [
    "real_sue = {\n",
    "    \"children\":    lambda x: x == 3,\n",
    "    \"cats\":        lambda x: x == 7,\n",
    "    \"samoyeds\":    lambda x: x == 2,\n",
    "    \"pomeranians\": lambda x: x == 3,\n",
    "    \"akitas\":      lambda x: x == 0,\n",
    "    \"vizslas\":     lambda x: x == 0,\n",
    "    \"goldfish\":    lambda x: x == 5,\n",
    "    \"trees\":       lambda x: x == 3,\n",
    "    \"cars\":        lambda x: x == 2,\n",
    "    \"perfumes\":    lambda x: x == 1,\n",
    "           }\n",
    "\n",
    "pattern = r'^Sue ([0-9]+): ([A-Za-z]+): ([0-9]+), ([A-Za-z]+): ([0-9]+), ([A-Za-z]+): ([0-9]+)$'\n",
    "for row in data:\n",
    "    match = re.findall(pattern,row)[0]\n",
    "    num = match[0]\n",
    "    things = dict(zip([name for i, name in enumerate(match[1:]) if i % 2 == 0],\n",
    "                      [int(count) for i, count in enumerate(match[1:]) if i % 2 == 1]))\n",
    "\n",
    "    if sum([real_sue[k](v) for k,v in things.items()]) == 3:\n",
    "        print('Part 1:', num)"
   ]
  },
  {
   "cell_type": "code",
   "execution_count": null,
   "metadata": {},
   "outputs": [],
   "source": [
    "real_sue2 = {\n",
    "    \"children\":    lambda x: x == 3,\n",
    "    \"cats\":        lambda x: x > 7,\n",
    "    \"samoyeds\":    lambda x: x == 2,\n",
    "    \"pomeranians\": lambda x: x < 3,\n",
    "    \"akitas\":      lambda x: x == 0,\n",
    "    \"vizslas\":     lambda x: x == 0,\n",
    "    \"goldfish\":    lambda x: x < 5,\n",
    "    \"trees\":       lambda x: x > 3,\n",
    "    \"cars\":        lambda x: x == 2,\n",
    "    \"perfumes\":    lambda x: x == 1,\n",
    "            }\n",
    "\n",
    "pattern = r'^Sue ([0-9]+): ([A-Za-z]+): ([0-9]+), ([A-Za-z]+): ([0-9]+), ([A-Za-z]+): ([0-9]+)$'\n",
    "for row in data:\n",
    "    match = re.findall(pattern,row)[0]\n",
    "    num = match[0]\n",
    "    things = dict(zip([name for i, name in enumerate(match[1:]) if i % 2 == 0],\n",
    "                      [int(count) for i, count in enumerate(match[1:]) if i % 2 == 1]))\n",
    "\n",
    "    if sum([real_sue2[k](v) for k,v in things.items()]) == 3:\n",
    "        print('Part 2:', num)"
   ]
  }
 ],
 "metadata": {
  "kernelspec": {
   "display_name": "Python 3",
   "language": "python",
   "name": "python3"
  },
  "language_info": {
   "codemirror_mode": {
    "name": "ipython",
    "version": 3
   },
   "file_extension": ".py",
   "mimetype": "text/x-python",
   "name": "python",
   "nbconvert_exporter": "python",
   "pygments_lexer": "ipython3",
   "version": "3.7.3"
  }
 },
 "nbformat": 4,
 "nbformat_minor": 2
}
