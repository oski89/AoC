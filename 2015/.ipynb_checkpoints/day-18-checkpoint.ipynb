{
 "cells": [
  {
   "cell_type": "code",
   "execution_count": null,
   "metadata": {},
   "outputs": [],
   "source": [
    "import numpy as np"
   ]
  },
  {
   "cell_type": "code",
   "execution_count": null,
   "metadata": {},
   "outputs": [],
   "source": [
    "with open('input/18.txt','r') as f:\n",
    "    data = f.read().split()\n",
    "data\n",
    "\n",
    "data2 = []\n",
    "for row in data:\n",
    "    row2 = []\n",
    "    for c in row:\n",
    "        row2.append(c)\n",
    "    data2.append(row2)\n",
    "#data2"
   ]
  },
  {
   "cell_type": "code",
   "execution_count": null,
   "metadata": {},
   "outputs": [],
   "source": [
    "# Part 1\n",
    "\n",
    "nr,nc = len(data2),len(data2[0])\n",
    "grid = np.zeros(((nr+2),(nc+2)),dtype=('U1'))\n",
    "grid[1:-1,1:-1] = data2\n",
    "\n",
    "def next_state(grid):\n",
    "    next_grid = np.zeros(((nr+2),(nc+2)),dtype=('U1'))\n",
    "    for r,row in enumerate(grid[1:-1,1:-1]):\n",
    "        r += 1\n",
    "        for c,sym in enumerate(row):\n",
    "            c += 1\n",
    "            neighbors = grid[r-1:r+2,c-1:c+2]\n",
    "            if sym == '#':\n",
    "                if (neighbors == '#').sum()-1 == 2 or (neighbors == '#').sum()-1 == 3:\n",
    "                    next_grid[r,c] = '#'\n",
    "                else:\n",
    "                    next_grid[r,c] = '.'\n",
    "            else:\n",
    "                if (neighbors == '#').sum() == 3:\n",
    "                    next_grid[r,c] = '#'\n",
    "                else:\n",
    "                    next_grid[r,c] = '.'\n",
    "    return next_grid\n",
    "            \n",
    "for _ in range(100):\n",
    "    grid = next_state(grid)\n",
    "print('Part 1:', (grid == '#').sum())"
   ]
  },
  {
   "cell_type": "code",
   "execution_count": null,
   "metadata": {},
   "outputs": [],
   "source": [
    "# Part 2\n",
    "\n",
    "nr,nc = len(data2),len(data2[0])\n",
    "grid2 = np.zeros(((nr+2),(nc+2)),dtype=('U1'))\n",
    "grid2[1:-1,1:-1] = data2\n",
    "grid2[1,1],grid2[-2,1],grid2[1,-2],grid2[-2,-2]  = '#','#','#','#'\n",
    "\n",
    "def next_state2(grid):\n",
    "    next_grid = np.zeros(((nr+2),(nc+2)),dtype=('U1'))\n",
    "    for r,row in enumerate(grid[1:-1,1:-1]):\n",
    "        r += 1\n",
    "        for c,sym in enumerate(row):\n",
    "            c += 1\n",
    "            neighbors = grid[r-1:r+2,c-1:c+2]\n",
    "            if sym == '#':\n",
    "                if (neighbors == '#').sum()-1 == 2 or (neighbors == '#').sum()-1 == 3:\n",
    "                    next_grid[r,c] = '#'\n",
    "                else:\n",
    "                    next_grid[r,c] = '.'\n",
    "            else:\n",
    "                if (neighbors == '#').sum() == 3:\n",
    "                    next_grid[r,c] = '#'\n",
    "                else:\n",
    "                    next_grid[r,c] = '.'\n",
    "    next_grid[1,1],next_grid[-2,1],next_grid[1,-2],next_grid[-2,-2]  = '#','#','#','#'\n",
    "    return next_grid\n",
    "            \n",
    "for _ in range(100):\n",
    "    grid2 = next_state2(grid2)\n",
    "print('Part 2:', (grid2 == '#').sum())"
   ]
  }
 ],
 "metadata": {
  "kernelspec": {
   "display_name": "Python 3",
   "language": "python",
   "name": "python3"
  },
  "language_info": {
   "codemirror_mode": {
    "name": "ipython",
    "version": 3
   },
   "file_extension": ".py",
   "mimetype": "text/x-python",
   "name": "python",
   "nbconvert_exporter": "python",
   "pygments_lexer": "ipython3",
   "version": "3.8.5"
  }
 },
 "nbformat": 4,
 "nbformat_minor": 4
}
