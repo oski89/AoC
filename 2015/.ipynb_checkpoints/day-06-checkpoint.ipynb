{
 "cells": [
  {
   "cell_type": "code",
   "execution_count": null,
   "metadata": {},
   "outputs": [],
   "source": [
    "import re\n",
    "import numpy as np"
   ]
  },
  {
   "cell_type": "code",
   "execution_count": null,
   "metadata": {},
   "outputs": [],
   "source": [
    "with open('input/06.txt','r') as f:\n",
    "    data = f.read().split('\\n')\n",
    "#data"
   ]
  },
  {
   "cell_type": "code",
   "execution_count": null,
   "metadata": {},
   "outputs": [],
   "source": [
    "# Part 1\n",
    "\n",
    "pattern = r'^(.+)\\s(\\d+,\\d+)\\s\\w+\\s(\\d+,\\d+)$'\n",
    "grid = np.zeros((1000,1000),dtype=bool)\n",
    "\n",
    "def handle_lights(grid,instr):\n",
    "    action, start, stop = instr\n",
    "    r1,c1,r2,c2 = tuple(map(int,(start+','+stop).split(',')))\n",
    "             \n",
    "    if action == 'turn on':\n",
    "        grid[r1:r2+1,c1:c2+1] = 1\n",
    "    elif action == 'turn off':\n",
    "        grid[r1:r2+1,c1:c2+1] = 0\n",
    "    else:\n",
    "        grid[r1:r2+1,c1:c2+1] = grid[r1:r2+1,c1:c2+1] == 0\n",
    "\n",
    "    return grid\n",
    "\n",
    "for row in data:\n",
    "    res = re.match(pattern, row)\n",
    "    action, start, stop = res.groups()\n",
    "    instr = (action,start,stop)\n",
    "    grid = handle_lights(grid,instr)\n",
    "    \n",
    "print('Part 1:', sum(sum(grid)))"
   ]
  },
  {
   "cell_type": "code",
   "execution_count": null,
   "metadata": {},
   "outputs": [],
   "source": [
    "# Part 2\n",
    "\n",
    "pattern = r'^(.+)\\s(\\d+,\\d+)\\s\\w+\\s(\\d+,\\d+)$'\n",
    "grid = np.zeros((1000,1000),dtype=int)\n",
    "\n",
    "def handle_brightness(grid,instr):\n",
    "    action, start, stop = instr\n",
    "    r1,c1,r2,c2 = tuple(map(int,(start+','+stop).split(',')))\n",
    "             \n",
    "    if action == 'turn on':\n",
    "        grid[r1:r2+1,c1:c2+1] += 1\n",
    "    elif action == 'turn off':\n",
    "        grid[r1:r2+1,c1:c2+1] -= 1\n",
    "        grid[grid < 0] = 0\n",
    "    else:\n",
    "        grid[r1:r2+1,c1:c2+1] += 2\n",
    "\n",
    "    return grid\n",
    "\n",
    "for row in data:\n",
    "    res = re.match(pattern, row)\n",
    "    action, start, stop = res.groups()\n",
    "    instr = (action,start,stop)\n",
    "    grid = handle_brightness(grid,instr)\n",
    "    \n",
    "print('Part 2:', sum(sum(grid)))"
   ]
  }
 ],
 "metadata": {
  "kernelspec": {
   "display_name": "Python 3",
   "language": "python",
   "name": "python3"
  },
  "language_info": {
   "codemirror_mode": {
    "name": "ipython",
    "version": 3
   },
   "file_extension": ".py",
   "mimetype": "text/x-python",
   "name": "python",
   "nbconvert_exporter": "python",
   "pygments_lexer": "ipython3",
   "version": "3.7.3"
  }
 },
 "nbformat": 4,
 "nbformat_minor": 2
}
