{
 "cells": [
  {
   "cell_type": "code",
   "execution_count": 11,
   "metadata": {},
   "outputs": [],
   "source": [
    "import re\n",
    "from itertools import permutations"
   ]
  },
  {
   "cell_type": "code",
   "execution_count": 40,
   "metadata": {},
   "outputs": [],
   "source": [
    "data = '''Alice would gain 54 happiness units by sitting next to Bob.\n",
    "Alice would lose 79 happiness units by sitting next to Carol.\n",
    "Alice would lose 2 happiness units by sitting next to David.\n",
    "Bob would gain 83 happiness units by sitting next to Alice.\n",
    "Bob would lose 7 happiness units by sitting next to Carol.\n",
    "Bob would lose 63 happiness units by sitting next to David.\n",
    "Carol would lose 62 happiness units by sitting next to Alice.\n",
    "Carol would gain 60 happiness units by sitting next to Bob.\n",
    "Carol would gain 55 happiness units by sitting next to David.\n",
    "David would gain 46 happiness units by sitting next to Alice.\n",
    "David would lose 7 happiness units by sitting next to Bob.\n",
    "David would gain 41 happiness units by sitting next to Carol.'''.split('\\n')\n",
    "#data\n",
    "\n",
    "with open('input/13.txt','r') as f:\n",
    "    data = f.read().split('\\n')\n",
    "#data"
   ]
  },
  {
   "cell_type": "code",
   "execution_count": 44,
   "metadata": {},
   "outputs": [
    {
     "name": "stdout",
     "output_type": "stream",
     "text": [
      "Part 1: 664\n"
     ]
    }
   ],
   "source": [
    "# Part 1\n",
    "\n",
    "def parse_seating(text,d,ppl):\n",
    "    pattern = r'^(\\w+).+(gain|lose)\\s(\\d+).+\\s(\\w+)\\.$'\n",
    "    pers1,sign,value,pers2 = re.match(pattern,text).groups()\n",
    "    if sign == 'gain':\n",
    "        value = int(value)\n",
    "    else:\n",
    "        value = -int(value)\n",
    "    d[pers1+pers2] = int(value)\n",
    "    if pers1 not in ppl:\n",
    "        ppl.append(pers1)\n",
    "    if pers2 not in ppl:\n",
    "        ppl.append(pers2)\n",
    "    return d, ppl\n",
    "\n",
    "d = {}\n",
    "ppl = []\n",
    "for row in data:\n",
    "    d,ppl = parse_seating(row,d,ppl)\n",
    "#print(d)\n",
    "permuts = permutations(ppl)\n",
    "perms = []\n",
    "for i,perm in enumerate(permuts):\n",
    "    perms.append(perm)\n",
    "\n",
    "happs = []\n",
    "for perm in perms:\n",
    "    #print(perm)\n",
    "    happ = 0\n",
    "    for i,p in enumerate(perm):\n",
    "        happ += d[p+perm[i-1]]\n",
    "        #print(p, perm[i-1], d[p+perm[i-1]])\n",
    "        if i == len(perm)-1:\n",
    "            happ += d[p+perm[0]]\n",
    "            #print(p, perm[0], d[p+perm[0]])\n",
    "        else:\n",
    "            happ += d[p+perm[i+1]]\n",
    "            #print(p, perm[i+1], d[p+perm[i+1]])\n",
    "    #print(happ)\n",
    "    happs.append(happ)\n",
    "print('Part 1:', max(happs))"
   ]
  },
  {
   "cell_type": "code",
   "execution_count": 45,
   "metadata": {},
   "outputs": [
    {
     "data": {
      "text/plain": [
       "{'AliceBob': -2,\n",
       " 'AliceCarol': -62,\n",
       " 'AliceDavid': 65,\n",
       " 'AliceEric': 21,\n",
       " 'AliceFrank': -81,\n",
       " 'AliceGeorge': -4,\n",
       " 'AliceMallory': -80,\n",
       " 'BobAlice': 93,\n",
       " 'BobCarol': 19,\n",
       " 'BobDavid': 5,\n",
       " 'BobEric': 49,\n",
       " 'BobFrank': 68,\n",
       " 'BobGeorge': 23,\n",
       " 'BobMallory': 29,\n",
       " 'CarolAlice': -54,\n",
       " 'CarolBob': -70,\n",
       " 'CarolDavid': -37,\n",
       " 'CarolEric': -46,\n",
       " 'CarolFrank': 33,\n",
       " 'CarolGeorge': -35,\n",
       " 'CarolMallory': 10,\n",
       " 'DavidAlice': 43,\n",
       " 'DavidBob': -96,\n",
       " 'DavidCarol': -53,\n",
       " 'DavidEric': -30,\n",
       " 'DavidFrank': -12,\n",
       " 'DavidGeorge': 75,\n",
       " 'DavidMallory': -20,\n",
       " 'EricAlice': 8,\n",
       " 'EricBob': -89,\n",
       " 'EricCarol': -69,\n",
       " 'EricDavid': -34,\n",
       " 'EricFrank': 95,\n",
       " 'EricGeorge': 34,\n",
       " 'EricMallory': -99,\n",
       " 'FrankAlice': -97,\n",
       " 'FrankBob': 6,\n",
       " 'FrankCarol': -9,\n",
       " 'FrankDavid': 56,\n",
       " 'FrankEric': -17,\n",
       " 'FrankGeorge': 18,\n",
       " 'FrankMallory': -56,\n",
       " 'GeorgeAlice': 45,\n",
       " 'GeorgeBob': 76,\n",
       " 'GeorgeCarol': 63,\n",
       " 'GeorgeDavid': 54,\n",
       " 'GeorgeEric': 54,\n",
       " 'GeorgeFrank': 30,\n",
       " 'GeorgeMallory': 7,\n",
       " 'MalloryAlice': 31,\n",
       " 'MalloryBob': -32,\n",
       " 'MalloryCarol': 95,\n",
       " 'MalloryDavid': 91,\n",
       " 'MalloryEric': -66,\n",
       " 'MalloryFrank': -75,\n",
       " 'MalloryGeorge': -99}"
      ]
     },
     "execution_count": 45,
     "metadata": {},
     "output_type": "execute_result"
    }
   ],
   "source": [
    "# Part 2\n",
    "\n",
    "d"
   ]
  },
  {
   "cell_type": "code",
   "execution_count": null,
   "metadata": {},
   "outputs": [],
   "source": []
  }
 ],
 "metadata": {
  "kernelspec": {
   "display_name": "Python 3",
   "language": "python",
   "name": "python3"
  },
  "language_info": {
   "codemirror_mode": {
    "name": "ipython",
    "version": 3
   },
   "file_extension": ".py",
   "mimetype": "text/x-python",
   "name": "python",
   "nbconvert_exporter": "python",
   "pygments_lexer": "ipython3",
   "version": "3.7.3"
  }
 },
 "nbformat": 4,
 "nbformat_minor": 2
}
