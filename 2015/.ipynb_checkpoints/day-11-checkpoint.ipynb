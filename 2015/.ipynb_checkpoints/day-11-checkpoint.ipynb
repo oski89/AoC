{
 "cells": [
  {
   "cell_type": "code",
   "execution_count": 2,
   "metadata": {},
   "outputs": [],
   "source": [
    "import string\n",
    "from itertools import cycle"
   ]
  },
  {
   "cell_type": "code",
   "execution_count": null,
   "metadata": {},
   "outputs": [],
   "source": []
  },
  {
   "cell_type": "code",
   "execution_count": 73,
   "metadata": {},
   "outputs": [],
   "source": [
    "# Part 1\n",
    "\n",
    "alphbt = cycle(string.ascii_lowercase)\n",
    "\n",
    "def straight_three(pswd):\n",
    "    next_pswd = pswd\n",
    "    for i in range(len(pswd)-3):\n",
    "        char_cycl = cycle(string.ascii_lowercase)\n",
    "        next_c = next(char_cycl)\n",
    "        while next_c != pswd[i]:\n",
    "            next_c = next(char_cycl)\n",
    "        if pswd[i+1] == next(char_cycl) and pswd[i+2] == next(char_cycl):\n",
    "            print('GOOD PASSWORD')\n",
    "            return next_pswd\n",
    "    else:\n",
    "        print('BAD PASSWORD')\n",
    "        pass  # fixa nästa password\n",
    "    return next_pswd\n",
    "\n",
    "def no_iol(pswd):\n",
    "    next_pswd = pswd\n",
    "    r = 'jpm'\n",
    "    for i,c in enumerate('iol'):\n",
    "        next_pswd = next_pswd.replace(c,r[i])\n",
    "    return next_pswd\n",
    "\n",
    "def two_pairs(pswd):\n",
    "    next_pswd = pswd\n",
    "    pairs = []\n",
    "    i = 0\n",
    "    while i < len(pswd)-2:\n",
    "        pair = pswd[i] + pswd[i+1]\n",
    "        if pair[0] == pair[1] and pair not in pairs:\n",
    "            pairs.append(pair)\n",
    "        i += 1\n",
    "    if len(pairs) < 2:\n",
    "        print('BAD PASSWORD')\n",
    "        pass # fixa nästa password\n",
    "    else:\n",
    "        print('GOOD PASSWORD')\n",
    "    return next_pswd\n",
    "    \n",
    "\n"
   ]
  },
  {
   "cell_type": "code",
   "execution_count": 36,
   "metadata": {},
   "outputs": [],
   "source": [
    "# Part 2\n",
    "\n"
   ]
  },
  {
   "cell_type": "code",
   "execution_count": 83,
   "metadata": {},
   "outputs": [
    {
     "name": "stdout",
     "output_type": "stream",
     "text": [
      "ghijklmn\n"
     ]
    }
   ],
   "source": [
    "i = 4\n",
    "test = ['hijklmmn','abbceffg','abbcegjk','abcdefgh','ghijklmn']\n",
    "test_pswd = test[i]\n",
    "print(test_pswd)"
   ]
  },
  {
   "cell_type": "code",
   "execution_count": 84,
   "metadata": {},
   "outputs": [
    {
     "name": "stdout",
     "output_type": "stream",
     "text": [
      "ghjjkmmn\n"
     ]
    }
   ],
   "source": [
    "test_pswd = no_iol(test_pswd)\n",
    "print(test_pswd)"
   ]
  },
  {
   "cell_type": "code",
   "execution_count": 85,
   "metadata": {},
   "outputs": [
    {
     "name": "stdout",
     "output_type": "stream",
     "text": [
      "BAD PASSWORD\n",
      "ghjjkmmn\n"
     ]
    }
   ],
   "source": [
    "test_pswd = straight_three(test_pswd)\n",
    "print(test_pswd)"
   ]
  },
  {
   "cell_type": "code",
   "execution_count": 86,
   "metadata": {},
   "outputs": [
    {
     "name": "stdout",
     "output_type": "stream",
     "text": [
      "GOOD PASSWORD\n",
      "ghjjkmmn\n"
     ]
    }
   ],
   "source": [
    "test_pswd = two_pairs(test_pswd)\n",
    "print(test_pswd)"
   ]
  }
 ],
 "metadata": {
  "kernelspec": {
   "display_name": "Python 3",
   "language": "python",
   "name": "python3"
  },
  "language_info": {
   "codemirror_mode": {
    "name": "ipython",
    "version": 3
   },
   "file_extension": ".py",
   "mimetype": "text/x-python",
   "name": "python",
   "nbconvert_exporter": "python",
   "pygments_lexer": "ipython3",
   "version": "3.7.3"
  }
 },
 "nbformat": 4,
 "nbformat_minor": 2
}
