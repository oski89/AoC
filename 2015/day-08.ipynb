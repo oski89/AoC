{
 "cells": [
  {
   "cell_type": "code",
   "execution_count": null,
   "metadata": {},
   "outputs": [],
   "source": [
    "import codecs"
   ]
  },
  {
   "cell_type": "code",
   "execution_count": null,
   "metadata": {},
   "outputs": [],
   "source": [
    "EXAMPLE = 0\n",
    "\n",
    "if EXAMPLE == 1:\n",
    "    data = r'\"\"'\n",
    "elif EXAMPLE == 2:\n",
    "    data = r'\"abc\"'\n",
    "elif EXAMPLE == 3:\n",
    "    data = r'\"aaa\\\"aaa\"'\n",
    "elif EXAMPLE == 4:\n",
    "    data = r'\"\\x27\"'\n",
    "else:\n",
    "    with open('input/08.txt','r') as f:\n",
    "        data = f.read().split()\n",
    "#data"
   ]
  },
  {
   "cell_type": "code",
   "execution_count": null,
   "metadata": {},
   "outputs": [],
   "source": [
    "# Part 1\n",
    "\n",
    "char_count = 0\n",
    "code_count = 0\n",
    "for row in data:\n",
    "    row2 = codecs.decode(row, 'unicode_escape')\n",
    "    for c in row2[1:-1]:\n",
    "        char_count += 1\n",
    "    code_count += len(row)\n",
    "diff = code_count - char_count\n",
    "print('Part 1:', diff)"
   ]
  },
  {
   "cell_type": "code",
   "execution_count": null,
   "metadata": {},
   "outputs": [],
   "source": [
    "# Part 2\n",
    "\n",
    "encd_count = 0\n",
    "for row in data:\n",
    "    encoded_string = ''\n",
    "    for c in row:\n",
    "        if c == '\\\"' or c == '\\\\':\n",
    "            encoded_string += '\\\\'\n",
    "        encoded_string += c\n",
    "    encd_count += len(encoded_string)+2\n",
    "diff2 = encd_count - code_count\n",
    "print('Part 2:', diff2)"
   ]
  }
 ],
 "metadata": {
  "kernelspec": {
   "display_name": "Python 3",
   "language": "python",
   "name": "python3"
  },
  "language_info": {
   "codemirror_mode": {
    "name": "ipython",
    "version": 3
   },
   "file_extension": ".py",
   "mimetype": "text/x-python",
   "name": "python",
   "nbconvert_exporter": "python",
   "pygments_lexer": "ipython3",
   "version": "3.7.3"
  }
 },
 "nbformat": 4,
 "nbformat_minor": 2
}
