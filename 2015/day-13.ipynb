{
 "cells": [
  {
   "cell_type": "code",
   "execution_count": null,
   "metadata": {},
   "outputs": [],
   "source": [
    "import re\n",
    "from itertools import permutations"
   ]
  },
  {
   "cell_type": "code",
   "execution_count": null,
   "metadata": {},
   "outputs": [],
   "source": [
    "data = '''Alice would gain 54 happiness units by sitting next to Bob.\n",
    "Alice would lose 79 happiness units by sitting next to Carol.\n",
    "Alice would lose 2 happiness units by sitting next to David.\n",
    "Bob would gain 83 happiness units by sitting next to Alice.\n",
    "Bob would lose 7 happiness units by sitting next to Carol.\n",
    "Bob would lose 63 happiness units by sitting next to David.\n",
    "Carol would lose 62 happiness units by sitting next to Alice.\n",
    "Carol would gain 60 happiness units by sitting next to Bob.\n",
    "Carol would gain 55 happiness units by sitting next to David.\n",
    "David would gain 46 happiness units by sitting next to Alice.\n",
    "David would lose 7 happiness units by sitting next to Bob.\n",
    "David would gain 41 happiness units by sitting next to Carol.'''.split('\\n')\n",
    "#data\n",
    "\n",
    "with open('input/13.txt','r') as f:\n",
    "    data = f.read().split('\\n')\n",
    "#data"
   ]
  },
  {
   "cell_type": "code",
   "execution_count": null,
   "metadata": {},
   "outputs": [],
   "source": [
    "# Part 1\n",
    "\n",
    "def parse_seating(text,d,ppl):\n",
    "    pattern = r'^(\\w+).+(gain|lose)\\s(\\d+).+\\s(\\w+)\\.$'\n",
    "    pers1,sign,value,pers2 = re.match(pattern,text).groups()\n",
    "    if sign == 'gain':\n",
    "        value = int(value)\n",
    "    else:\n",
    "        value = -int(value)\n",
    "    d[pers1+pers2] = int(value)\n",
    "    if pers1 not in ppl:\n",
    "        ppl.append(pers1)\n",
    "    if pers2 not in ppl:\n",
    "        ppl.append(pers2)\n",
    "    return d, ppl\n",
    "\n",
    "d = {}\n",
    "ppl = []\n",
    "for row in data:\n",
    "    d,ppl = parse_seating(row,d,ppl)\n",
    "#print(d)\n",
    "permuts = permutations(ppl)\n",
    "perms = []\n",
    "for i,perm in enumerate(permuts):\n",
    "    perms.append(perm)\n",
    "\n",
    "happs = []\n",
    "for perm in perms:\n",
    "    #print(perm)\n",
    "    happ = 0\n",
    "    for i,p in enumerate(perm):\n",
    "        happ += d[p+perm[i-1]]\n",
    "        #print(p, perm[i-1], d[p+perm[i-1]])\n",
    "        if i == len(perm)-1:\n",
    "            happ += d[p+perm[0]]\n",
    "            #print(p, perm[0], d[p+perm[0]])\n",
    "        else:\n",
    "            happ += d[p+perm[i+1]]\n",
    "            #print(p, perm[i+1], d[p+perm[i+1]])\n",
    "    #print(happ)\n",
    "    happs.append(happ)\n",
    "print('Part 1:', max(happs))"
   ]
  },
  {
   "cell_type": "code",
   "execution_count": null,
   "metadata": {},
   "outputs": [],
   "source": [
    "# Part 2\n",
    "\n",
    "def add_myself(d,ppl,myself):\n",
    "    for p in ppl:\n",
    "        d[myself+p] = 0\n",
    "        d[p+myself] = 0\n",
    "    ppl.append(myself)\n",
    "    return d,ppl\n",
    "\n",
    "myself = 'Oski89'\n",
    "d2,ppl2 = add_myself(d,ppl,myself)\n",
    "\n",
    "permuts2 = permutations(ppl2)\n",
    "perms2 = []\n",
    "for i,perm in enumerate(permuts2):\n",
    "    perms2.append(perm)\n",
    "\n",
    "happs2 = []\n",
    "for perm in perms2:\n",
    "    #print(perm)\n",
    "    happ2 = 0\n",
    "    for i,p in enumerate(perm):\n",
    "        happ2 += d2[p+perm[i-1]]\n",
    "        #print(p, perm[i-1], d[p+perm[i-1]])\n",
    "        if i == len(perm)-1:\n",
    "            happ2 += d2[p+perm[0]]\n",
    "            #print(p, perm[0], d[p+perm[0]])\n",
    "        else:\n",
    "            happ2 += d2[p+perm[i+1]]\n",
    "            #print(p, perm[i+1], d[p+perm[i+1]])\n",
    "    #print(happ)\n",
    "    happs2.append(happ2)\n",
    "print('Part 2:', max(happs2))"
   ]
  },
  {
   "cell_type": "code",
   "execution_count": null,
   "metadata": {},
   "outputs": [],
   "source": []
  }
 ],
 "metadata": {
  "kernelspec": {
   "display_name": "Python 3",
   "language": "python",
   "name": "python3"
  },
  "language_info": {
   "codemirror_mode": {
    "name": "ipython",
    "version": 3
   },
   "file_extension": ".py",
   "mimetype": "text/x-python",
   "name": "python",
   "nbconvert_exporter": "python",
   "pygments_lexer": "ipython3",
   "version": "3.7.3"
  }
 },
 "nbformat": 4,
 "nbformat_minor": 2
}
