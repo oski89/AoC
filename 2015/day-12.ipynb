{
 "cells": [
  {
   "cell_type": "code",
   "execution_count": null,
   "metadata": {},
   "outputs": [],
   "source": [
    "import re\n",
    "from collections import defaultdict"
   ]
  },
  {
   "cell_type": "code",
   "execution_count": null,
   "metadata": {},
   "outputs": [],
   "source": [
    "with open('input/12.txt','r') as f:\n",
    "    data = f.read()\n",
    "len(data)"
   ]
  },
  {
   "cell_type": "code",
   "execution_count": null,
   "metadata": {},
   "outputs": [],
   "source": [
    "# Part 1\n",
    "\n",
    "pattern = r'-?\\d+'\n",
    "nums = re.findall(pattern,data)\n",
    "print('Part 1:', sum(list(map(int,nums))))"
   ]
  },
  {
   "cell_type": "code",
   "execution_count": null,
   "metadata": {},
   "outputs": [],
   "source": [
    "# Part 2\n",
    "\n",
    "#data = '[1,2,3]'\n",
    "#data = '[1,{\"c\":\"red\",\"b\":2},3,{\"a\":1,{\"bb\":1337,\"aa\":\"red\"},{\"bb\":100}},\"red\",4]'\n",
    "#data = '''[1,\"red\",5]'''\n",
    "#data = '{\"d\":\"red\",\"e\":[1,2,3,4],\"f\":5,\"g\":}'\n",
    "\n",
    "sum2 = 0\n",
    "in_obj = False\n",
    "in_red = False\n",
    "in_same_num = False\n",
    "lvl = 0\n",
    "lvl_red = 9999\n",
    "hold_sum = 0\n",
    "hold_sums = defaultdict(int)\n",
    "\n",
    "for i,c in enumerate(data):\n",
    "    if c == '{':\n",
    "        in_obj = True\n",
    "        lvl += 1\n",
    "        print('Lvl:', lvl)\n",
    "    elif c == '}':\n",
    "        lvl -= 1\n",
    "        print('Lvl:', lvl)\n",
    "        if lvl == 0:\n",
    "            in_obj = False\n",
    "            in_red = False\n",
    "        if not in_red and lvl < lvl_red:\n",
    "            \n",
    "            '''\n",
    "            if hold_sum != 0:\n",
    "                print('}', hold_sum)\n",
    "                sum2 += hold_sum\n",
    "                hold_sum = 0\n",
    "            hold_sum = 0\n",
    "            '''\n",
    "        if lvl < lvl_red:\n",
    "            in_red = False\n",
    "    elif data[i:i+3] == 'red' and in_obj:\n",
    "        print('Red at lvl:', lvl)\n",
    "        for i in range(lvl,100):\n",
    "            hold_sums[i] = 0\n",
    "        if hold_sum != 0:\n",
    "            print('Reset hold_sum:', hold_sum)\n",
    "            hold_sum = 0\n",
    "        in_red = True\n",
    "        if lvl < lvl_red:\n",
    "            lvl_red = lvl\n",
    "    elif c == ',':\n",
    "        in_same_num = False\n",
    "    elif c in '-1234567890' and not in_red and not in_same_num:\n",
    "        is_num = False\n",
    "        j = 4\n",
    "        while not is_num:\n",
    "            if j == 0:\n",
    "                break\n",
    "            try:\n",
    "                num = int(data[i:i+j])\n",
    "                hold_sum += num\n",
    "                if lvl not in hold_sums.keys():\n",
    "                    hold_sums[lvl] = num\n",
    "                else:\n",
    "                    hold_sums[lvl] += num\n",
    "                is_num = True\n",
    "                in_same_num = True\n",
    "            except ValueError:\n",
    "                j -= 1\n",
    "        print('Num:', num)\n",
    "else:\n",
    "    sum2 += hold_sum\n",
    "print('Part 2:', sum2)\n",
    "\n",
    "sum2 = sum(hold_sums.values())"
   ]
  },
  {
   "cell_type": "code",
   "execution_count": null,
   "metadata": {},
   "outputs": [],
   "source": [
    "hold_sums"
   ]
  },
  {
   "cell_type": "code",
   "execution_count": null,
   "metadata": {},
   "outputs": [],
   "source": [
    "sum2 = sum(hold_sums.values())\n",
    "sum2"
   ]
  },
  {
   "cell_type": "code",
   "execution_count": null,
   "metadata": {},
   "outputs": [],
   "source": []
  }
 ],
 "metadata": {
  "kernelspec": {
   "display_name": "Python 3",
   "language": "python",
   "name": "python3"
  },
  "language_info": {
   "codemirror_mode": {
    "name": "ipython",
    "version": 3
   },
   "file_extension": ".py",
   "mimetype": "text/x-python",
   "name": "python",
   "nbconvert_exporter": "python",
   "pygments_lexer": "ipython3",
   "version": "3.7.3"
  }
 },
 "nbformat": 4,
 "nbformat_minor": 2
}
