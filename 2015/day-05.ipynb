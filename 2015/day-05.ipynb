{
 "cells": [
  {
   "cell_type": "code",
   "execution_count": null,
   "metadata": {},
   "outputs": [],
   "source": [
    "EXAMPLE = 0\n",
    "\n",
    "if EXAMPLE == 11:\n",
    "    data = ['ugknbfddgicrmopn']\n",
    "elif EXAMPLE == 12:\n",
    "    data = ['aaa']\n",
    "elif EXAMPLE == 13:\n",
    "    data = ['jchzalrnumimnmhp']\n",
    "elif EXAMPLE == 14:\n",
    "    data = ['haegwjzuvuyypxyu']\n",
    "elif EXAMPLE == 15:\n",
    "    data = ['dvszwmarrgswjxmb']\n",
    "elif EXAMPLE == 21:\n",
    "    data = ['qjhvhtzxzqqjkmpb']\n",
    "elif EXAMPLE == 22:\n",
    "    data = ['xxyxx']\n",
    "elif EXAMPLE == 23:\n",
    "    data = ['uurcxstgmygtbstg']\n",
    "elif EXAMPLE == 24:\n",
    "    data = ['ieodomkazucvgmuy']\n",
    "else:\n",
    "    with open('input/05.txt','r') as f:\n",
    "        data = f.read().split()\n",
    "#data"
   ]
  },
  {
   "cell_type": "code",
   "execution_count": null,
   "metadata": {},
   "outputs": [],
   "source": [
    "# Part 1\n",
    "\n",
    "def three_vowels(string):\n",
    "    counter = 0\n",
    "    for c in 'aeiou':\n",
    "        counter += string.count(c)\n",
    "    return counter >= 3\n",
    "\n",
    "def letter_twice_in_row(string):\n",
    "    for i,c in enumerate(string[:-1]):\n",
    "        if c == string[i+1]:\n",
    "            return True\n",
    "    return False\n",
    "\n",
    "def not_ab_cd_pq_xy(string):\n",
    "    for ss in ['ab','cd','pq','xy']:\n",
    "        if ss in string:\n",
    "            return False\n",
    "    return True\n",
    "\n",
    "counter = 0\n",
    "for row in data:\n",
    "    if three_vowels(row) and letter_twice_in_row(row) and not_ab_cd_pq_xy(row):\n",
    "        counter += 1\n",
    "\n",
    "print('Part 1:', counter)"
   ]
  },
  {
   "cell_type": "code",
   "execution_count": null,
   "metadata": {},
   "outputs": [],
   "source": [
    "# Part 2\n",
    "\n",
    "def twice_letter_twice(string):\n",
    "    for i in range(len(string[:-3])):\n",
    "        if string[i:i+2] in string[i+2:]:\n",
    "            return True\n",
    "    return False\n",
    "\n",
    "def rep_with_letter_between(string):\n",
    "    for i in range(len(string[:-2])):\n",
    "        if string[i] == string[i+2]:\n",
    "            return True\n",
    "    return False\n",
    "\n",
    "counter2 = 0\n",
    "for row in data:\n",
    "    if twice_letter_twice(row) and rep_with_letter_between(row):\n",
    "        counter2 += 1\n",
    "\n",
    "print('Part 2:', counter2)"
   ]
  },
  {
   "cell_type": "code",
   "execution_count": null,
   "metadata": {},
   "outputs": [],
   "source": []
  }
 ],
 "metadata": {
  "kernelspec": {
   "display_name": "Python 3",
   "language": "python",
   "name": "python3"
  },
  "language_info": {
   "codemirror_mode": {
    "name": "ipython",
    "version": 3
   },
   "file_extension": ".py",
   "mimetype": "text/x-python",
   "name": "python",
   "nbconvert_exporter": "python",
   "pygments_lexer": "ipython3",
   "version": "3.7.3"
  }
 },
 "nbformat": 4,
 "nbformat_minor": 2
}
