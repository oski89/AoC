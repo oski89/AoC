{
 "cells": [
  {
   "cell_type": "code",
   "execution_count": null,
   "metadata": {},
   "outputs": [],
   "source": [
    "EXAMPLE = 0\n",
    "\n",
    "if EXAMPLE == 1:\n",
    "    data = '>'\n",
    "elif EXAMPLE == 2:\n",
    "    data = '^>v<'\n",
    "elif EXAMPLE == 3:\n",
    "    data = '^v^v^v^v^v'\n",
    "else:\n",
    "    with open('input/03.txt','r') as f:\n",
    "        data = f.read()\n",
    "#data"
   ]
  },
  {
   "cell_type": "code",
   "execution_count": null,
   "metadata": {},
   "outputs": [],
   "source": [
    "# Part 1\n",
    "\n",
    "houses = 1\n",
    "x,y = 0,0\n",
    "visited = []\n",
    "visited.append((x,y))\n",
    "\n",
    "for d in data:\n",
    "    if d == '>':\n",
    "        x += 1\n",
    "    elif d == 'v':\n",
    "        y += 1\n",
    "    elif d == '<':\n",
    "        x -= 1\n",
    "    else:\n",
    "        y -= 1\n",
    "    \n",
    "    if (x,y) not in visited:\n",
    "        visited.append((x,y))\n",
    "        houses += 1\n",
    "\n",
    "print('Part 1:', houses)"
   ]
  },
  {
   "cell_type": "code",
   "execution_count": null,
   "metadata": {},
   "outputs": [],
   "source": [
    "# Part 2\n",
    "\n",
    "houses = 1\n",
    "x,y = 0,0\n",
    "rx,ry = 0,0\n",
    "visited = []\n",
    "visited.append((x,y))\n",
    "\n",
    "for i,d in enumerate(data):\n",
    "    if i % 2 == 0:\n",
    "        if d == '>':\n",
    "            x += 1\n",
    "        elif d == 'v':\n",
    "            y += 1\n",
    "        elif d == '<':\n",
    "            x -= 1\n",
    "        else:\n",
    "            y -= 1\n",
    "    \n",
    "        if (x,y) not in visited:\n",
    "            visited.append((x,y))\n",
    "            houses += 1\n",
    "        \n",
    "    else:\n",
    "        if d == '>':\n",
    "            rx += 1\n",
    "        elif d == 'v':\n",
    "            ry += 1\n",
    "        elif d == '<':\n",
    "            rx -= 1\n",
    "        else:\n",
    "            ry -= 1\n",
    "    \n",
    "        if (rx,ry) not in visited:\n",
    "            visited.append((rx,ry))\n",
    "            houses += 1\n",
    "\n",
    "print('Part 2:', houses)"
   ]
  }
 ],
 "metadata": {
  "kernelspec": {
   "display_name": "Python 3",
   "language": "python",
   "name": "python3"
  },
  "language_info": {
   "codemirror_mode": {
    "name": "ipython",
    "version": 3
   },
   "file_extension": ".py",
   "mimetype": "text/x-python",
   "name": "python",
   "nbconvert_exporter": "python",
   "pygments_lexer": "ipython3",
   "version": "3.7.3"
  }
 },
 "nbformat": 4,
 "nbformat_minor": 2
}
