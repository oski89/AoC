{
 "cells": [
  {
   "cell_type": "code",
   "execution_count": null,
   "metadata": {},
   "outputs": [],
   "source": [
    "import string\n",
    "from itertools import cycle"
   ]
  },
  {
   "cell_type": "markdown",
   "metadata": {},
   "source": [
    "Input:\n",
    "'vzbxkghb'\n",
    "\n",
    "By reasoning:\n",
    "Next password is obtained by incrementing last letter (ay>az>ba).\n",
    "\n",
    "Three rules:\n",
    "1. No 'iol'\n",
    "2. One increasing straight of at least three letters\n",
    "3. At least two different, non-overlapping pairs\n",
    "\n",
    "First rule is fulfilled -> No action.\n",
    "Second rule and third rule will first be fulfilled by letting\n",
    "the last five letters be 'xxyzz'.\n",
    "Therefore, the answer to Part 1 is 'vzbxxyzz'.\n",
    "\n",
    "With same logic, next accepted password is obtained by letting\n",
    "b -> c and first subsequent five letters are 'aabcc'.\n",
    "Therefore, the answer to Part 1 is 'vzcaabcc'."
   ]
  },
  {
   "cell_type": "code",
   "execution_count": null,
   "metadata": {},
   "outputs": [],
   "source": [
    "# Part 1\n",
    "\n",
    "alphbt = cycle(string.ascii_lowercase)\n",
    "\n",
    "def straight_three(pswd):\n",
    "    next_pswd = pswd\n",
    "    for i in range(len(pswd)-3):\n",
    "        char_cycl = cycle(string.ascii_lowercase)\n",
    "        next_c = next(char_cycl)\n",
    "        while next_c != pswd[i]:\n",
    "            next_c = next(char_cycl)\n",
    "        if pswd[i+1] == next(char_cycl) and pswd[i+2] == next(char_cycl):\n",
    "            print('GOOD PASSWORD')\n",
    "            return next_pswd\n",
    "    else:\n",
    "        print('BAD PASSWORD')\n",
    "        pass  # fixa nästa password\n",
    "    return next_pswd\n",
    "\n",
    "def no_iol(pswd):\n",
    "    next_pswd = pswd\n",
    "    r = 'jpm'\n",
    "    for i,c in enumerate('iol'):\n",
    "        next_pswd = next_pswd.replace(c,r[i])\n",
    "    return next_pswd\n",
    "\n",
    "def two_pairs(pswd):\n",
    "    next_pswd = pswd\n",
    "    pairs = []\n",
    "    i = 0\n",
    "    while i < len(pswd)-2:\n",
    "        pair = pswd[i] + pswd[i+1]\n",
    "        if pair[0] == pair[1] and pair not in pairs:\n",
    "            pairs.append(pair)\n",
    "        i += 1\n",
    "    if len(pairs) < 2:\n",
    "        print('BAD PASSWORD')\n",
    "        pass # fixa nästa password\n",
    "    else:\n",
    "        print('GOOD PASSWORD')\n",
    "    return next_pswd\n",
    "    \n",
    "\n"
   ]
  },
  {
   "cell_type": "code",
   "execution_count": null,
   "metadata": {},
   "outputs": [],
   "source": [
    "# Part 2\n",
    "\n"
   ]
  },
  {
   "cell_type": "code",
   "execution_count": null,
   "metadata": {},
   "outputs": [],
   "source": [
    "i = 4\n",
    "test = ['hijklmmn','abbceffg','abbcegjk','abcdefgh','ghijklmn']\n",
    "test_pswd = test[i]\n",
    "print(test_pswd)"
   ]
  },
  {
   "cell_type": "code",
   "execution_count": null,
   "metadata": {},
   "outputs": [],
   "source": [
    "f = no_iol\n",
    "test_pswd = f(test_pswd)\n",
    "print(f'Next pswd after {f.__name__}: {test_pswd}')"
   ]
  },
  {
   "cell_type": "code",
   "execution_count": null,
   "metadata": {},
   "outputs": [],
   "source": [
    "f = straight_three\n",
    "test_pswd = f(test_pswd)\n",
    "print(f'Next pswd after {f.__name__}: {test_pswd}')"
   ]
  },
  {
   "cell_type": "code",
   "execution_count": null,
   "metadata": {},
   "outputs": [],
   "source": [
    "f = two_pairs\n",
    "test_pswd = f(test_pswd)\n",
    "print(f'Next pswd after {f.__name__}: {test_pswd}')"
   ]
  },
  {
   "cell_type": "code",
   "execution_count": null,
   "metadata": {},
   "outputs": [],
   "source": []
  }
 ],
 "metadata": {
  "kernelspec": {
   "display_name": "Python 3",
   "language": "python",
   "name": "python3"
  },
  "language_info": {
   "codemirror_mode": {
    "name": "ipython",
    "version": 3
   },
   "file_extension": ".py",
   "mimetype": "text/x-python",
   "name": "python",
   "nbconvert_exporter": "python",
   "pygments_lexer": "ipython3",
   "version": "3.7.3"
  }
 },
 "nbformat": 4,
 "nbformat_minor": 2
}
