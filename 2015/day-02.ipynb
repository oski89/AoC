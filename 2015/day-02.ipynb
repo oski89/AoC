{
 "cells": [
  {
   "cell_type": "code",
   "execution_count": null,
   "metadata": {},
   "outputs": [],
   "source": [
    "from functools import reduce"
   ]
  },
  {
   "cell_type": "code",
   "execution_count": null,
   "metadata": {},
   "outputs": [],
   "source": [
    "with open('input/02.txt','r') as f:\n",
    "    data = [tuple(map(int,dim.split('x'))) for dim in f.read().split()]\n",
    "#data"
   ]
  },
  {
   "cell_type": "code",
   "execution_count": null,
   "metadata": {},
   "outputs": [],
   "source": [
    "# Part 1\n",
    "\n",
    "paper = 0\n",
    "for l,w,h in data:\n",
    "    paper += 2*(l*w+w*h+h*l) + reduce(lambda x,y: x*y, sorted((l,w,h))[:2])\n",
    "\n",
    "print('Part 1:', paper)"
   ]
  },
  {
   "cell_type": "code",
   "execution_count": null,
   "metadata": {},
   "outputs": [],
   "source": [
    "# Part 2\n",
    "\n",
    "ribbon = 0\n",
    "for l,w,h in data:\n",
    "    ribbon += reduce(lambda x,y: 2*(x+y), sorted((l,w,h))[:2]) + l*w*h\n",
    "\n",
    "print('Part 2:', ribbon)"
   ]
  }
 ],
 "metadata": {
  "kernelspec": {
   "display_name": "Python 3",
   "language": "python",
   "name": "python3"
  },
  "language_info": {
   "codemirror_mode": {
    "name": "ipython",
    "version": 3
   },
   "file_extension": ".py",
   "mimetype": "text/x-python",
   "name": "python",
   "nbconvert_exporter": "python",
   "pygments_lexer": "ipython3",
   "version": "3.7.3"
  }
 },
 "nbformat": 4,
 "nbformat_minor": 2
}
