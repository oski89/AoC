{
 "cells": [
  {
   "cell_type": "code",
   "execution_count": null,
   "metadata": {},
   "outputs": [],
   "source": [
    "import hashlib"
   ]
  },
  {
   "cell_type": "code",
   "execution_count": null,
   "metadata": {},
   "outputs": [],
   "source": [
    "EXAMPLE = 0\n",
    "\n",
    "if EXAMPLE == 1:\n",
    "    data = 'abcdef'\n",
    "elif EXAMPLE == 2:\n",
    "    data = 'pqrstuv'\n",
    "else:\n",
    "    with open('input/04.txt','r') as f:\n",
    "        data = f.read()\n",
    "#data"
   ]
  },
  {
   "cell_type": "code",
   "execution_count": null,
   "metadata": {},
   "outputs": [],
   "source": [
    "# Part 2\n",
    "\n",
    "n = 0\n",
    "while True:\n",
    "    test_str = data + str(n)\n",
    "    result = hashlib.md5(test_str.encode())\n",
    "    if result.hexdigest()[:5] == '0'*5:\n",
    "        break\n",
    "    n += 1\n",
    "\n",
    "#print(result.hexdigest())\n",
    "print('Part 1:', test_str[len(data):])"
   ]
  },
  {
   "cell_type": "code",
   "execution_count": null,
   "metadata": {},
   "outputs": [],
   "source": [
    "# Part 2\n",
    "\n",
    "n = 0\n",
    "while True:\n",
    "    test_str = data + str(n)\n",
    "    result = hashlib.md5(test_str.encode())\n",
    "    if result.hexdigest()[:6] == '0'*6:\n",
    "        break\n",
    "    n += 1\n",
    "\n",
    "#print(result.hexdigest())\n",
    "print('Part 2:', test_str[len(data):])"
   ]
  }
 ],
 "metadata": {
  "kernelspec": {
   "display_name": "Python 3",
   "language": "python",
   "name": "python3"
  },
  "language_info": {
   "codemirror_mode": {
    "name": "ipython",
    "version": 3
   },
   "file_extension": ".py",
   "mimetype": "text/x-python",
   "name": "python",
   "nbconvert_exporter": "python",
   "pygments_lexer": "ipython3",
   "version": "3.7.3"
  }
 },
 "nbformat": 4,
 "nbformat_minor": 2
}
