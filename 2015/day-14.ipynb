{
 "cells": [
  {
   "cell_type": "code",
   "execution_count": 2,
   "metadata": {},
   "outputs": [],
   "source": [
    "import re"
   ]
  },
  {
   "cell_type": "code",
   "execution_count": 3,
   "metadata": {},
   "outputs": [],
   "source": [
    "with open('input/14.txt','r') as f:\n",
    "    data = f.read().split('\\n')\n",
    "#data"
   ]
  },
  {
   "cell_type": "code",
   "execution_count": 4,
   "metadata": {},
   "outputs": [
    {
     "name": "stdout",
     "output_type": "stream",
     "text": [
      "Part 1: 2640\n"
     ]
    }
   ],
   "source": [
    "# Part 1\n",
    "\n",
    "pattern = r'^(\\w+) can fly (\\d+) km/s for (\\d+) seconds, but then must rest for (\\d+) seconds\\.$'\n",
    "rds = {}\n",
    "for row in data:\n",
    "    name,speed,time,rest = re.match(pattern,row).groups()\n",
    "    rds[name] = list(map(int,(speed,time,rest)))\n",
    "#rds\n",
    "\n",
    "TEND = 2503\n",
    "dists = []\n",
    "for name in rds.keys():\n",
    "    speed,time,rest = rds[name]\n",
    "    periods = TEND // (time+rest)\n",
    "    left = TEND % (time+rest)\n",
    "    if left > time:\n",
    "        left = time\n",
    "    airtime = periods * time + left\n",
    "    dist = airtime * speed\n",
    "    dists.append(dist)\n",
    "\n",
    "print('Part 1:', max(dists))\n"
   ]
  },
  {
   "cell_type": "code",
   "execution_count": null,
   "metadata": {},
   "outputs": [],
   "source": []
  }
 ],
 "metadata": {
  "kernelspec": {
   "display_name": "Python 3",
   "language": "python",
   "name": "python3"
  },
  "language_info": {
   "codemirror_mode": {
    "name": "ipython",
    "version": 3
   },
   "file_extension": ".py",
   "mimetype": "text/x-python",
   "name": "python",
   "nbconvert_exporter": "python",
   "pygments_lexer": "ipython3",
   "version": "3.7.3"
  }
 },
 "nbformat": 4,
 "nbformat_minor": 2
}
