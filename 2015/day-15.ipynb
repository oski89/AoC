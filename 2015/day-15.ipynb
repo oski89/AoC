{
 "cells": [
  {
   "cell_type": "code",
   "execution_count": 24,
   "metadata": {},
   "outputs": [],
   "source": [
    "from collections import defaultdict"
   ]
  },
  {
   "cell_type": "code",
   "execution_count": null,
   "metadata": {},
   "outputs": [],
   "source": []
  },
  {
   "cell_type": "code",
   "execution_count": null,
   "metadata": {},
   "outputs": [],
   "source": []
  },
  {
   "cell_type": "code",
   "execution_count": null,
   "metadata": {},
   "outputs": [],
   "source": []
  },
  {
   "cell_type": "code",
   "execution_count": 37,
   "metadata": {},
   "outputs": [],
   "source": [
    "ingridients = {\n",
    "    'Butterscotch':\n",
    "    {'capacity': -1, 'durability': -2, 'flavor': 6, 'texture': 3, 'calories': 8},\n",
    "    'Cinnamon':\n",
    "    {'capacity': 2, 'durability': 3, 'flavor': -2, 'texture': -1, 'calories': 3},\n",
    "    }\n",
    "\n",
    "scores = {}\n",
    "for k in ingridients.keys():\n",
    "    scores[k] = []\n",
    "\n",
    "for _ in range(101):\n",
    "    for ing,props in ingridients.items():\n",
    "        score = sum(list(map(lambda x: x*n,(props.values()))))\n",
    "        scores[ing].append(score)\n",
    "\n",
    "scores2 = {}\n",
    "for n in range(101):\n",
    "    m = 100-n\n",
    "    for ing,props in ingridients.items():\n",
    "    "
   ]
  },
  {
   "cell_type": "code",
   "execution_count": 38,
   "metadata": {},
   "outputs": [
    {
     "data": {
      "text/plain": [
       "-1"
      ]
     },
     "execution_count": 38,
     "metadata": {},
     "output_type": "execute_result"
    }
   ],
   "source": [
    "ingridients['Butterscotch']['capacity']"
   ]
  },
  {
   "cell_type": "code",
   "execution_count": null,
   "metadata": {},
   "outputs": [],
   "source": []
  }
 ],
 "metadata": {
  "kernelspec": {
   "display_name": "Python 3",
   "language": "python",
   "name": "python3"
  },
  "language_info": {
   "codemirror_mode": {
    "name": "ipython",
    "version": 3
   },
   "file_extension": ".py",
   "mimetype": "text/x-python",
   "name": "python",
   "nbconvert_exporter": "python",
   "pygments_lexer": "ipython3",
   "version": "3.7.3"
  }
 },
 "nbformat": 4,
 "nbformat_minor": 2
}
